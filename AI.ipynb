{
  "nbformat": 4,
  "nbformat_minor": 0,
  "metadata": {
    "colab": {
      "provenance": [],
      "authorship_tag": "ABX9TyNZNTkCYPkxPwm3sJmyoL6z",
      "include_colab_link": true
    },
    "kernelspec": {
      "name": "python3",
      "display_name": "Python 3"
    },
    "language_info": {
      "name": "python"
    }
  },
  "cells": [
    {
      "cell_type": "markdown",
      "metadata": {
        "id": "view-in-github",
        "colab_type": "text"
      },
      "source": [
        "<a href=\"https://colab.research.google.com/github/Rustam64/AI/blob/main/AI.ipynb\" target=\"_parent\"><img src=\"https://colab.research.google.com/assets/colab-badge.svg\" alt=\"Open In Colab\"/></a>"
      ]
    },
    {
      "cell_type": "code",
      "source": [
        "import numpy as np\n",
        "import tensorflow as tf\n",
        "import matplotlib.pyplot as plt"
      ],
      "metadata": {
        "id": "V0AnW18z-Z2B"
      },
      "execution_count": 13,
      "outputs": []
    },
    {
      "cell_type": "code",
      "source": [
        "#Load Data\n",
        "mnist = tf.keras.datasets.mnist\n",
        "\n",
        "#Split data into train and test\n",
        "(train_images, train_labels), (test_images, test_labels) = mnist.load_data()\n",
        "\n",
        "#Normalize images\n",
        "train_images=train_images/255.0\n",
        "test_images=test_images/255.0"
      ],
      "metadata": {
        "id": "eNs4G9xnANkO"
      },
      "execution_count": 14,
      "outputs": []
    },
    {
      "cell_type": "code",
      "source": [
        "def evaluate_activation(activation_function):\n",
        "  model = tf.keras. Sequential ([\n",
        "      tf.keras.layers.Flatten (input_shape=(28, 28)),\n",
        "      tf.keras.layers.Dense(128, activation=activation_function),\n",
        "      tf.keras.layers.Dense(10, activation='softmax')\n",
        "])\n",
        "  model.compile(optimizer='adam', loss='sparse_categorical_crossentropy', metrics=['accuracy'])\n",
        "  model.fit(train_images, train_labels, epochs=10)\n",
        "  test_loss, test_acc = model.evaluate(test_images, test_labels)\n",
        "  print(f\"Test accuracy with {activation_function}: {test_acc}\")\n",
        "\n",
        "evaluate_activation('tanh')"
      ],
      "metadata": {
        "colab": {
          "base_uri": "https://localhost:8080/"
        },
        "id": "XRHH6CsrBRd8",
        "outputId": "1cbd998a-82ed-472f-e8fd-5a7e9578503c"
      },
      "execution_count": 15,
      "outputs": [
        {
          "output_type": "stream",
          "name": "stdout",
          "text": [
            "Epoch 1/10\n",
            "1875/1875 [==============================] - 5s 2ms/step - loss: 0.2870 - accuracy: 0.9175\n",
            "Epoch 2/10\n",
            "1875/1875 [==============================] - 4s 2ms/step - loss: 0.1415 - accuracy: 0.9584\n",
            "Epoch 3/10\n",
            "1875/1875 [==============================] - 5s 3ms/step - loss: 0.0955 - accuracy: 0.9719\n",
            "Epoch 4/10\n",
            "1875/1875 [==============================] - 5s 2ms/step - loss: 0.0695 - accuracy: 0.9800\n",
            "Epoch 5/10\n",
            "1875/1875 [==============================] - 5s 3ms/step - loss: 0.0525 - accuracy: 0.9841\n",
            "Epoch 6/10\n",
            "1875/1875 [==============================] - 4s 2ms/step - loss: 0.0400 - accuracy: 0.9886\n",
            "Epoch 7/10\n",
            "1875/1875 [==============================] - 4s 2ms/step - loss: 0.0311 - accuracy: 0.9915\n",
            "Epoch 8/10\n",
            "1875/1875 [==============================] - 5s 3ms/step - loss: 0.0240 - accuracy: 0.9936\n",
            "Epoch 9/10\n",
            "1875/1875 [==============================] - 5s 2ms/step - loss: 0.0190 - accuracy: 0.9950\n",
            "Epoch 10/10\n",
            "1875/1875 [==============================] - 5s 3ms/step - loss: 0.0152 - accuracy: 0.9962\n",
            "313/313 [==============================] - 1s 1ms/step - loss: 0.0791 - accuracy: 0.9775\n",
            "Test accuracy with tanh: 0.9775000214576721\n"
          ]
        }
      ]
    }
  ]
}