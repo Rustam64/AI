{
  "nbformat": 4,
  "nbformat_minor": 0,
  "metadata": {
    "colab": {
      "provenance": [],
      "authorship_tag": "ABX9TyN2nHLp7RxHwnrs4MKT1hqZ",
      "include_colab_link": true
    },
    "kernelspec": {
      "name": "python3",
      "display_name": "Python 3"
    },
    "language_info": {
      "name": "python"
    }
  },
  "cells": [
    {
      "cell_type": "markdown",
      "metadata": {
        "id": "view-in-github",
        "colab_type": "text"
      },
      "source": [
        "<a href=\"https://colab.research.google.com/github/Rustam64/AI/blob/main/RNN.ipynb\" target=\"_parent\"><img src=\"https://colab.research.google.com/assets/colab-badge.svg\" alt=\"Open In Colab\"/></a>"
      ]
    },
    {
      "cell_type": "code",
      "source": [
        "import numpy as np\n",
        "import tensorflow as tf\n",
        "import matplotlib.pyplot as plt\n",
        "\n",
        "#Load Data\n",
        "mnist = tf.keras.datasets.mnist\n",
        "#Split data into train and test\n",
        "(train_images, train_labels), (test_images, test_labels) = mnist.load_data()\n",
        "#Normalize images\n",
        "train_images=train_images/255.0\n",
        "test_images=test_images/255.0\n",
        "\n",
        "\n",
        "def evaluate_rnn_with_layer(activation_function):\n",
        "    model = tf.keras.Sequential([\n",
        "        tf.keras.layers.Input(shape=(28, 28, 1)),\n",
        "        tf.keras.layers.Reshape((28, 28), input_shape=(28, 28, 1)),  # Flatten the input data\n",
        "        tf.keras.layers.LSTM(128, activation=activation_function, return_sequences=True),  # Use LSTM layer\n",
        "        tf.keras.layers.LSTM(128, activation=activation_function),  # LSTM layer without return_sequences\n",
        "        tf.keras.layers.Dense(10, activation='softmax')])\n",
        "\n",
        "    model.compile(optimizer='adam', loss='sparse_categorical_crossentropy', metrics=['accuracy']) # Optimizer adam is usually consistent\n",
        "    model.fit(train_images, train_labels, epochs=10)\n",
        "    test_loss, test_acc = model.evaluate(test_images, test_labels)# Testing usin,g test images and labels\n",
        "    print(f\"Test accuracy: {test_acc}\")\n",
        "\n",
        "    return model\n",
        "\n",
        "rnn_model = evaluate_rnn_with_layer('relu')"
      ],
      "metadata": {
        "colab": {
          "base_uri": "https://localhost:8080/"
        },
        "id": "UI0moc4pGOG4",
        "outputId": "9e49ccfd-0fb5-4942-c0b7-31f795a72c75"
      },
      "execution_count": null,
      "outputs": [
        {
          "output_type": "stream",
          "name": "stdout",
          "text": [
            "Epoch 1/10\n",
            "1875/1875 [==============================] - 167s 88ms/step - loss: 0.3930 - accuracy: 0.8736\n",
            "Epoch 2/10\n",
            "1875/1875 [==============================] - 153s 82ms/step - loss: 0.1052 - accuracy: 0.9682\n",
            "Epoch 3/10\n",
            "1875/1875 [==============================] - 149s 80ms/step - loss: 0.0729 - accuracy: 0.9778\n",
            "Epoch 4/10\n",
            "1875/1875 [==============================] - 152s 81ms/step - loss: 0.0586 - accuracy: 0.9826\n",
            "Epoch 5/10\n",
            "1875/1875 [==============================] - 150s 80ms/step - loss: 0.0468 - accuracy: 0.9854\n",
            "Epoch 6/10\n",
            "1875/1875 [==============================] - 152s 81ms/step - loss: 0.0386 - accuracy: 0.9879\n",
            "Epoch 7/10\n",
            "1875/1875 [==============================] - 151s 80ms/step - loss: 0.0332 - accuracy: 0.9900\n",
            "Epoch 8/10\n",
            "1875/1875 [==============================] - 153s 81ms/step - loss: 0.0287 - accuracy: 0.9910\n",
            "Epoch 9/10\n",
            "1875/1875 [==============================] - 149s 80ms/step - loss: 0.0261 - accuracy: 0.9919\n",
            "Epoch 10/10\n",
            "1875/1875 [==============================] - 151s 81ms/step - loss: 0.0225 - accuracy: 0.9929\n",
            "313/313 [==============================] - 10s 31ms/step - loss: 0.0304 - accuracy: 0.9907\n",
            "Test accuracy: 0.9907000064849854\n"
          ]
        }
      ]
    }
  ]
}