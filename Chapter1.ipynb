{
  "nbformat": 4,
  "nbformat_minor": 0,
  "metadata": {
    "colab": {
      "provenance": [],
      "authorship_tag": "ABX9TyNFigVjImL+Eo98vGVmej6q",
      "include_colab_link": true
    },
    "kernelspec": {
      "name": "python3",
      "display_name": "Python 3"
    },
    "language_info": {
      "name": "python"
    }
  },
  "cells": [
    {
      "cell_type": "markdown",
      "metadata": {
        "id": "view-in-github",
        "colab_type": "text"
      },
      "source": [
        "<a href=\"https://colab.research.google.com/github/Rustam64/AI/blob/main/Chapter1.ipynb\" target=\"_parent\"><img src=\"https://colab.research.google.com/assets/colab-badge.svg\" alt=\"Open In Colab\"/></a>"
      ]
    },
    {
      "cell_type": "code",
      "execution_count": null,
      "metadata": {
        "colab": {
          "base_uri": "https://localhost:8080/"
        },
        "id": "l6n4jOHeR8iK",
        "outputId": "b959c064-2c9b-4871-a7b4-dd1b40ce16cf"
      },
      "outputs": [
        {
          "output_type": "stream",
          "name": "stdout",
          "text": [
            "[ 7 10]\n"
          ]
        },
        {
          "output_type": "execute_result",
          "data": {
            "text/plain": [
              "array([[-1., -1.],\n",
              "       [ 1.,  1.]])"
            ]
          },
          "metadata": {},
          "execution_count": 1
        }
      ],
      "source": [
        "#NUMPY: NUMERICAL, MATRIX OPERATIONS AND BASIC SOLVERS\n",
        "import numpy as np\n",
        "X = np.array([[1, 2], [3, 4]])\n",
        "#v = np.array([1, 2]).reshape((2, 1))\n",
        "v = np.array([1, 2])\n",
        "np.dot(X, v) #NO BROADCAST\n",
        "\n",
        "X * v # broadcasting\n",
        "print(np.dot(v, X))\n",
        "\n",
        "X - X.mean(axis=0)"
      ]
    }
  ]
}