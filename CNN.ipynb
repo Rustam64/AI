{
  "nbformat": 4,
  "nbformat_minor": 0,
  "metadata": {
    "colab": {
      "provenance": [],
      "authorship_tag": "ABX9TyNyU50u3nX30rqOhvaFp48g",
      "include_colab_link": true
    },
    "kernelspec": {
      "name": "python3",
      "display_name": "Python 3"
    },
    "language_info": {
      "name": "python"
    }
  },
  "cells": [
    {
      "cell_type": "markdown",
      "metadata": {
        "id": "view-in-github",
        "colab_type": "text"
      },
      "source": [
        "<a href=\"https://colab.research.google.com/github/Rustam64/AI/blob/main/CNN.ipynb\" target=\"_parent\"><img src=\"https://colab.research.google.com/assets/colab-badge.svg\" alt=\"Open In Colab\"/></a>"
      ]
    },
    {
      "cell_type": "code",
      "execution_count": 1,
      "metadata": {
        "colab": {
          "base_uri": "https://localhost:8080/"
        },
        "id": "2A5-izrwIzJt",
        "outputId": "210b00f5-bca8-409f-e1a4-4db14d202672"
      },
      "outputs": [
        {
          "output_type": "stream",
          "name": "stdout",
          "text": [
            "Downloading data from https://storage.googleapis.com/tensorflow/tf-keras-datasets/mnist.npz\n",
            "11490434/11490434 [==============================] - 1s 0us/step\n"
          ]
        }
      ],
      "source": [
        "import tensorflow as tf\n",
        "\n",
        "# Load Data\n",
        "mnist = tf.keras.datasets.mnist\n",
        "\n",
        "# Split data into train and test\n",
        "(train_images, train_labels), (test_images, test_labels) = mnist.load_data()\n",
        "\n",
        "train_images = train_images / 255.0\n",
        "test_images = test_images / 255.0"
      ]
    },
    {
      "cell_type": "code",
      "source": [
        "model = tf . keras . Sequential ([\n",
        "    tf.keras.layers.Conv2D(32 , (3,3) , activation ='relu',input_shape =(28 , 28 , 1) ) ,\n",
        "    tf.keras.layers.MaxPooling2D ((2 , 2) ) ,\n",
        "    tf.keras.layers.Conv2D(64 , (3 ,3) , activation ='relu') ,\n",
        "    tf.keras.layers.MaxPooling2D((2 , 2) ) ,\n",
        "    tf.keras.layers.Flatten() ,\n",
        "    tf.keras.layers.Dense(128 , activation ='relu') ,\n",
        "    tf.keras.layers.Dense(10 , activation ='softmax')\n",
        "])"
      ],
      "metadata": {
        "id": "9f9roVd3I_GY"
      },
      "execution_count": 3,
      "outputs": []
    },
    {
      "cell_type": "code",
      "source": [
        "model.compile( optimizer ='adam' ,loss = 'sparse_categorical_crossentropy',metrics = [ 'accuracy'])\n",
        "model.fit( train_images , train_labels , epochs =5)\n",
        "\n",
        "test_loss , test_acc = model . evaluate ( test_images , test_labels)\n",
        "model.save ('mnist_cnn_model.h5')"
      ],
      "metadata": {
        "colab": {
          "base_uri": "https://localhost:8080/"
        },
        "id": "nNhAG83qJZiB",
        "outputId": "4e9fc475-fe8f-4710-8f65-1fd3419ca7ad"
      },
      "execution_count": 6,
      "outputs": [
        {
          "output_type": "stream",
          "name": "stdout",
          "text": [
            "Epoch 1/5\n",
            "1875/1875 [==============================] - 59s 31ms/step - loss: 0.0593 - accuracy: 0.9822\n",
            "Epoch 2/5\n",
            "1875/1875 [==============================] - 59s 32ms/step - loss: 0.0348 - accuracy: 0.9896\n",
            "Epoch 3/5\n",
            "1875/1875 [==============================] - 60s 32ms/step - loss: 0.0233 - accuracy: 0.9923\n",
            "Epoch 4/5\n",
            "1875/1875 [==============================] - 56s 30ms/step - loss: 0.0175 - accuracy: 0.9947\n",
            "Epoch 5/5\n",
            "1875/1875 [==============================] - 59s 31ms/step - loss: 0.0128 - accuracy: 0.9959\n",
            "313/313 [==============================] - 3s 9ms/step - loss: 0.0402 - accuracy: 0.9872\n"
          ]
        },
        {
          "output_type": "stream",
          "name": "stderr",
          "text": [
            "/usr/local/lib/python3.10/dist-packages/keras/src/engine/training.py:3000: UserWarning: You are saving your model as an HDF5 file via `model.save()`. This file format is considered legacy. We recommend using instead the native Keras format, e.g. `model.save('my_model.keras')`.\n",
            "  saving_api.save_model(\n"
          ]
        }
      ]
    },
    {
      "cell_type": "code",
      "source": [
        "loaded_model = tf.keras.models.load_model ('mnist_cnn_model.h5')\n",
        "\n",
        "test_loss , test_acc = loaded_model.evaluate (test_images ,test_labels)\n",
        "\n",
        "print(\"Test accuracy:\", test_acc)"
      ],
      "metadata": {
        "colab": {
          "base_uri": "https://localhost:8080/"
        },
        "id": "6Ky_zkpkKuVh",
        "outputId": "41e2fa45-e9ca-412f-f4ea-10eef3d9d7b5"
      },
      "execution_count": 7,
      "outputs": [
        {
          "output_type": "stream",
          "name": "stdout",
          "text": [
            "313/313 [==============================] - 3s 9ms/step - loss: 0.0402 - accuracy: 0.9872\n",
            "Test accuracy: 0.9872000217437744\n"
          ]
        }
      ]
    }
  ]
}